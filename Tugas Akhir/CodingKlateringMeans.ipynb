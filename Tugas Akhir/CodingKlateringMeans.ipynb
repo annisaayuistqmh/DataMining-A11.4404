{
  "nbformat": 4,
  "nbformat_minor": 0,
  "metadata": {
    "colab": {
      "provenance": []
    },
    "kernelspec": {
      "name": "python3",
      "display_name": "Python 3"
    },
    "language_info": {
      "name": "python"
    }
  },
  "cells": [
    {
      "cell_type": "code",
      "source": [
        "import pandas as pd\n",
        "import numpy as np\n",
        "import matplotlib.pyplot as plt\n",
        "from sklearn.cluster import KMeans\n",
        "from sklearn.preprocessing import StandardScaler\n",
        "from sklearn.metrics import silhouette_score"
      ],
      "metadata": {
        "id": "f0kS0N_xZQMM"
      },
      "execution_count": 7,
      "outputs": []
    },
    {
      "cell_type": "code",
      "source": [
        "# Ganti dengan URL dataset yang tepat\n",
        "url = \"www.kaggle.com/datasets/vijayuv/onlineretail\""
      ],
      "metadata": {
        "id": "g1rTAC6Jbm03"
      },
      "execution_count": null,
      "outputs": []
    },
    {
      "cell_type": "code",
      "source": [
        "# Memuat dataset menggunakan library pandas\n",
        "df = pd.read_csv(url, encoding=\"unicode_escape\")"
      ],
      "metadata": {
        "id": "U_LZCvf-cBOt"
      },
      "execution_count": null,
      "outputs": []
    },
    {
      "cell_type": "code",
      "source": [
        "# Menampilkan beberapa baris pertama dataset\n",
        "print(df.head())"
      ],
      "metadata": {
        "id": "HUlXmaZ6cBbb"
      },
      "execution_count": null,
      "outputs": []
    },
    {
      "cell_type": "code",
      "source": [
        "# Informasi tentang tipe data dan nilai-nilai yang hilang\n",
        "print(df.info())"
      ],
      "metadata": {
        "id": "_Hbc_h4JcBle"
      },
      "execution_count": null,
      "outputs": []
    },
    {
      "cell_type": "code",
      "source": [
        "# 2. Pembersihan Data\n",
        "df.drop_duplicates(inplace=True)\n",
        "df.dropna(inplace=True)"
      ],
      "metadata": {
        "id": "FLUf1IVzbniE"
      },
      "execution_count": null,
      "outputs": []
    },
    {
      "cell_type": "code",
      "source": [
        "# Preprocessing Data\n",
        "data = df[['StockCode', 'Quantity', 'InvoiceDate', 'UnitPrice', 'CustomerID']]\n",
        "data['InvoiceDate'] = pd.to_datetime(data['InvoiceDate'])"
      ],
      "metadata": {
        "id": "5294xb3IcYFy"
      },
      "execution_count": null,
      "outputs": []
    },
    {
      "cell_type": "code",
      "source": [
        "# 3. Analisis Pola Pembelian\n",
        "# Identifikasi produk yang paling sering dibeli\n",
        "top_products = data['StockCode'].value_counts().head(10)\n",
        "print(\"Produk yang paling sering dibeli:\")\n",
        "print(top_products)"
      ],
      "metadata": {
        "id": "0pkP8F9XbvF-"
      },
      "execution_count": null,
      "outputs": []
    },
    {
      "cell_type": "code",
      "source": [
        "# Tren Belanja Berdasarkan Waktu\n",
        "data['YearMonth'] = data['InvoiceDate'].dt.to_period('M')\n",
        "shopping_trends = data.groupby('YearMonth')['Quantity'].sum()"
      ],
      "metadata": {
        "id": "sB7c_4pdceb7"
      },
      "execution_count": null,
      "outputs": []
    },
    {
      "cell_type": "code",
      "source": [
        "# Visualisasi tren belanja berdasarkan waktu\n",
        "import matplotlib.pyplot as plt\n",
        "plt.figure(figsize=(10, 6))\n",
        "plt.plot(shopping_trends.index, shopping_trends, marker='o', linestyle='-')\n",
        "plt.xlabel('Bulan')\n",
        "plt.ylabel('Jumlah Barang Terbeli')\n",
        "plt.title('Tren Belanja Pelanggan Berdasarkan Waktu')\n",
        "plt.xticks(rotation=45)\n",
        "plt.grid(True)\n",
        "plt.show()\n"
      ],
      "metadata": {
        "id": "b-nQeYKiceoo"
      },
      "execution_count": null,
      "outputs": []
    },
    {
      "cell_type": "code",
      "source": [
        "# 4. Segmentasi Pelanggan\n",
        "# Preprocessing untuk K-means Clustering\n",
        "from sklearn.preprocessing import StandardScaler\n",
        "scaler = StandardScaler()\n",
        "data_scaled = scaler.fit_transform(data[['Quantity', 'UnitPrice']])"
      ],
      "metadata": {
        "id": "8laSFGBebvor"
      },
      "execution_count": null,
      "outputs": []
    },
    {
      "cell_type": "code",
      "source": [
        "# Menentukan jumlah kluster yang optimal dengan Elbow Method\n",
        "wcss = []\n",
        "for i in range(1, 11):\n",
        "    kmeans = KMeans(n_clusters=i, init='k-means++', max_iter=300, n_init=10, random_state=42)\n",
        "    kmeans.fit(data_scaled)\n",
        "    wcss.append(kmeans.inertia_)"
      ],
      "metadata": {
        "id": "lZCGP_l-cy5g"
      },
      "execution_count": null,
      "outputs": []
    },
    {
      "cell_type": "code",
      "source": [
        "# Plot Elbow Method\n",
        "plt.figure(figsize=(8, 6))\n",
        "plt.plot(range(1, 11), wcss, marker='o')\n",
        "plt.xlabel('Jumlah Kluster')\n",
        "plt.ylabel('Within-Cluster Sum of Squares (WCSS)')\n",
        "plt.title('Elbow Method untuk Menentukan Jumlah Kluster Optimal')\n",
        "plt.grid(True)\n",
        "plt.show()"
      ],
      "metadata": {
        "id": "uuMaCJpeczAS"
      },
      "execution_count": null,
      "outputs": []
    },
    {
      "cell_type": "code",
      "source": [
        "# Berdasarkan Elbow Method, pilih jumlah kluster yang optimal\n",
        "n_clusters = 4\n",
        "kmeans = KMeans(n_clusters=n_clusters, init='k-means++', max_iter=300, n_init=10, random_state=42)\n",
        "data['Cluster'] = kmeans.fit_predict(data_scaled)"
      ],
      "metadata": {
        "id": "-wVBKYlEczE-"
      },
      "execution_count": null,
      "outputs": []
    },
    {
      "cell_type": "code",
      "source": [
        "# 5. Evaluasi dan Interpretasi\n",
        "from sklearn.metrics import silhouette_score"
      ],
      "metadata": {
        "id": "DpwBMpIBbwsE"
      },
      "execution_count": null,
      "outputs": []
    },
    {
      "cell_type": "code",
      "source": [],
      "metadata": {
        "id": "_t5o46IihpCJ"
      },
      "execution_count": null,
      "outputs": []
    },
    {
      "cell_type": "code",
      "source": [
        "# Evaluasi hasil clustering menggunakan Silhouette Score\n",
        "silhouette_avg = silhouette_score(data_scaled, data['Cluster'])\n",
        "print(f\"Silhouette Score untuk jumlah kluster {n_clusters}: {silhouette_avg}\")\n"
      ],
      "metadata": {
        "id": "OF1gesfcc7pK"
      },
      "execution_count": null,
      "outputs": []
    },
    {
      "cell_type": "code",
      "source": [
        "# Visualisasi hasil clustering\n",
        "plt.figure(figsize=(10, 6))\n",
        "for i in range(n_clusters):\n",
        "    cluster_data = data[data['Cluster'] == i]\n",
        "    plt.scatter(cluster_data['Quantity'], cluster_data['UnitPrice'], label=f'Cluster {i+1}')\n",
        "plt.scatter(kmeans.cluster_centers_[:, 0], kmeans.cluster_centers_[:, 1], s=200, c='red', marker='*', label='Centroids')\n",
        "plt.xlabel('Quantity (Standarized)')\n",
        "plt.ylabel('UnitPrice (Standarized)')\n",
        "plt.title('Hasil Clustering dengan K-means')\n",
        "plt.legend()\n",
        "plt.grid(True)\n",
        "plt.show()"
      ],
      "metadata": {
        "id": "oi0-hIy-c7xe"
      },
      "execution_count": null,
      "outputs": []
    }
  ]
}